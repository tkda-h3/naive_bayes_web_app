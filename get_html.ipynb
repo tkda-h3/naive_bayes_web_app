{
 "cells": [
  {
   "cell_type": "markdown",
   "metadata": {},
   "source": [
    "# Get_HTML"
   ]
  },
  {
   "cell_type": "code",
   "execution_count": null,
   "metadata": {
    "collapsed": true
   },
   "outputs": [],
   "source": [
    "import re\n",
    "import urllib2\n",
    "from bs4 import BeautifulSoup\n",
    "\n",
    "from prettyprint import pp"
   ]
  },
  {
   "cell_type": "code",
   "execution_count": null,
   "metadata": {
    "collapsed": true
   },
   "outputs": [],
   "source": [
    "html = urllib2.urlopen(\"https://gunosy.com/\")\n",
    "\n",
    "soup = BeautifulSoup(html, \"lxml\")"
   ]
  },
  {
   "cell_type": "markdown",
   "metadata": {},
   "source": [
    "## テキストの取得"
   ]
  },
  {
   "cell_type": "code",
   "execution_count": null,
   "metadata": {
    "collapsed": false
   },
   "outputs": [],
   "source": [
    "print soup.title\n",
    "print soup.title.string\n",
    "print \n",
    "\n",
    "res = soup.select(\"body > nav > ul > li > a\")[1:-1]\n",
    "\n",
    "print res[0]\n",
    "print res[0].attrs\n",
    "print res[0].string\n",
    "print\n",
    "\n",
    "categories = map(lambda a: (a.get(\"href\"), a.string), res)\n",
    "pp(categories)"
   ]
  },
  {
   "cell_type": "code",
   "execution_count": null,
   "metadata": {
    "collapsed": false
   },
   "outputs": [],
   "source": [
    "def get_categories(url):\n",
    "    html = urllib2.urlopen(url)\n",
    "    soup = BeautifulSoup(html, \"lxml\")\n",
    "    a_list = soup.select(\"body > nav > ul > li > a\")[1:-1]\n",
    "    categories = map(lambda a: (a.get(\"href\"), a.string), a_list)\n",
    "    return categories\n",
    "    \n",
    "categories = get_categories(\"https://gunosy.com/\")\n",
    "pp(categories[:2])\n",
    "\n",
    "def get_links_and_titles(category_url):\n",
    "    html = urllib2.urlopen(category_url)\n",
    "    soup = BeautifulSoup(html, \"lxml\")\n",
    "    a_list = soup.select(\"body > div > div > div.main > div.article_list.gtm-click > div.list_content > div.list_text > div.list_title > a\")\n",
    "    pages = map(lambda a: (a.get(\"href\"), a.string), a_list)\n",
    "    links = map(lambda a: a.get(\"href\"), a_list)\n",
    "    titles = map(lambda a: a.string, a_list)\n",
    "    return links,titles\n",
    "\n",
    "print\n",
    "print categories[0][0] + \"　のニュースリスト\"\n",
    "print\n",
    "\n",
    "links, titles = get_links_and_titles(categories[0][0])\n",
    "\n",
    "all_titles = []\n",
    "all_links = []\n",
    "all_labels = []\n",
    "for i,url_info in enumerate(categories):\n",
    "    links,titles = get_links_and_titles(url_info[0])\n",
    "    all_links.extend(links)\n",
    "    all_titles.extend(titles)\n",
    "    all_labels.extend([i] * len(links))\n",
    "    \n",
    "    "
   ]
  }
 ],
 "metadata": {
  "kernelspec": {
   "display_name": "Python 2",
   "language": "python",
   "name": "python2"
  },
  "language_info": {
   "codemirror_mode": {
    "name": "ipython",
    "version": 2
   },
   "file_extension": ".py",
   "mimetype": "text/x-python",
   "name": "python",
   "nbconvert_exporter": "python",
   "pygments_lexer": "ipython2",
   "version": "2.7.11"
  }
 },
 "nbformat": 4,
 "nbformat_minor": 0
}
